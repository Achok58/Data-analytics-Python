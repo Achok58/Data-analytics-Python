{
 "cells": [
  {
   "cell_type": "markdown",
   "id": "01e9fe9c-1556-4a59-8c13-53ab2ca70838",
   "metadata": {},
   "source": [
    "# Smart Calculator with Decision Making Assignment\n"
   ]
  },
  {
   "cell_type": "code",
   "execution_count": 1,
   "id": "81c47351-2361-48d0-959a-a34f144b3b36",
   "metadata": {},
   "outputs": [
    {
     "name": "stdin",
     "output_type": "stream",
     "text": [
      "Enter the first number:  2000\n",
      "Enter the second number:  4000\n"
     ]
    },
    {
     "name": "stdout",
     "output_type": "stream",
     "text": [
      "\n",
      "Choose an operation:\n",
      " + for Addition\n",
      " - for Subtraction\n",
      " * for Multiplication\n",
      " / for Division\n",
      " ** for Power\n",
      " % for Remainder\n"
     ]
    },
    {
     "name": "stdin",
     "output_type": "stream",
     "text": [
      "Enter the operation:  *\n"
     ]
    },
    {
     "name": "stdout",
     "output_type": "stream",
     "text": [
      "\n",
      "✅ 2000.0 * 4000.0 = 8000000.0\n",
      "📊 Wow! That's a big number.\n"
     ]
    }
   ],
   "source": [
    "# 📌 Task: Simple Calculator with Multiple Operations and Special Case Handling\n",
    "\n",
    "# 1. Ask the user for two numbers\n",
    "num1 = float(input(\"Enter the first number: \"))\n",
    "num2 = float(input(\"Enter the second number: \"))\n",
    "\n",
    "# 2. Ask the user to choose an operation\n",
    "print(\"\\nChoose an operation:\")\n",
    "print(\" + for Addition\")\n",
    "print(\" - for Subtraction\")\n",
    "print(\" * for Multiplication\")\n",
    "print(\" / for Division\")\n",
    "print(\" ** for Power\")\n",
    "print(\" % for Remainder\")\n",
    "\n",
    "operation = input(\"Enter the operation: \")\n",
    "\n",
    "# 3. Use if/elif/else to perform the correct operation\n",
    "if operation == \"+\":\n",
    "    result = num1 + num2\n",
    "    print(f\"\\n✅ {num1} + {num2} = {result}\")\n",
    "    \n",
    "elif operation == \"-\":\n",
    "    result = num1 - num2\n",
    "    print(f\"\\n✅ {num1} - {num2} = {result}\")\n",
    "    \n",
    "elif operation == \"*\":\n",
    "    result = num1 * num2\n",
    "    print(f\"\\n✅ {num1} * {num2} = {result}\")\n",
    "    \n",
    "elif operation == \"/\":\n",
    "    if num2 == 0:\n",
    "        print(\"\\n⚠️ Error: Cannot divide by zero.\")\n",
    "    else:\n",
    "        result = num1 / num2\n",
    "        print(f\"\\n✅ {num1} / {num2} = {result}\")\n",
    "        \n",
    "elif operation == \"**\":\n",
    "    result = num1 ** num2\n",
    "    print(f\"\\n✅ {num1} ** {num2} = {result}\")\n",
    "    \n",
    "elif operation == \"%\":\n",
    "    if num2 == 0:\n",
    "        print(\"\\n⚠️ Error: Cannot divide by zero for remainder.\")\n",
    "    else:\n",
    "        result = num1 % num2\n",
    "        print(f\"\\n✅ {num1} % {num2} = {result}\")\n",
    "        \n",
    "else:\n",
    "    print(\"\\n❌ Invalid operation. Please try again.\")\n",
    "\n",
    "# 5. Additional feedback\n",
    "if operation in [\"+\", \"-\", \"*\", \"/\", \"**\", \"%\"] and (operation != \"/\" and operation != \"%\" or num2 != 0):\n",
    "    if result == 0:\n",
    "        print(\"💡 Tip: The result is zero. Was that expected?\")\n",
    "    elif result < 0:\n",
    "        print(\"📉 Note: The result is negative.\")\n",
    "    elif result > 1000:\n",
    "        print(\"📊 Wow! That's a big number.\")\n"
   ]
  },
  {
   "cell_type": "code",
   "execution_count": null,
   "id": "aacd2297-24e3-4277-8eb1-3352a709d75c",
   "metadata": {},
   "outputs": [],
   "source": []
  }
 ],
 "metadata": {
  "kernelspec": {
   "display_name": "Python 3 (ipykernel)",
   "language": "python",
   "name": "python3"
  },
  "language_info": {
   "codemirror_mode": {
    "name": "ipython",
    "version": 3
   },
   "file_extension": ".py",
   "mimetype": "text/x-python",
   "name": "python",
   "nbconvert_exporter": "python",
   "pygments_lexer": "ipython3",
   "version": "3.13.5"
  }
 },
 "nbformat": 4,
 "nbformat_minor": 5
}
