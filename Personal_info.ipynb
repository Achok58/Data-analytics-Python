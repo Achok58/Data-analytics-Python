{
 "cells": [
  {
   "cell_type": "markdown",
   "id": "16b37fa8-68d7-4281-b42f-6e071f92defa",
   "metadata": {},
   "source": [
    "# Personal Information"
   ]
  },
  {
   "cell_type": "code",
   "execution_count": 2,
   "id": "4377696a-5698-4655-9143-c3dc871bc544",
   "metadata": {},
   "outputs": [
    {
     "name": "stdin",
     "output_type": "stream",
     "text": [
      "Barach:  Barach\n",
      "Deu:  Deu\n",
      "22 22\n",
      "Playing soccer:  Playing soccer\n"
     ]
    }
   ],
   "source": [
    "# Step 1: Ask for user input\n",
    "\n",
    "first_name = input(\"Enter your first name: Barach \")\n",
    "last_name = input(\"Enter your last name: Deu \")\n",
    "age_input = input(\"Enter your age: 22\")\n",
    "hobby = input(\"Enter your hobby: Playing soccer \")"
   ]
  },
  {
   "cell_type": "code",
   "execution_count": 4,
   "id": "2f3ea991-bf3c-4545-be1e-d386223c5455",
   "metadata": {},
   "outputs": [],
   "source": [
    "# Step 2: Convert age and calculate future ages\n",
    "try:\n",
    "    age = int(age_input)\n",
    "    age_5 = 22 + 5\n",
    "    age_10 = 22 + 10\n",
    "    age_20 = 22 + 20\n",
    "except ValueError:\n",
    "    print(\"Invalid age entered. Please enter a number.\")\n",
    "    exit()"
   ]
  },
  {
   "cell_type": "code",
   "execution_count": 5,
   "id": "897c75c2-3e37-459e-b578-1325f1c20bca",
   "metadata": {},
   "outputs": [
    {
     "name": "stdout",
     "output_type": "stream",
     "text": [
      "\n",
      "--- Personalized Messages ---\n",
      "Hello, Barach Deu! That's a great name.\n",
      "In 5 years, you'll be 27 years old.\n",
      "In 10 years, you'll be 32 years old.\n",
      "In 20 years, you'll be 42 years old.\n",
      "Did you know your name in uppercase is: BARACH DEU?\n",
      "And in lowercase: barach deu\n",
      "Playing soccer sounds like a fun hobby!\n"
     ]
    }
   ],
   "source": [
    "# Step 3: Personalized messages using string methods\n",
    "\n",
    "print(\"\\n--- Personalized Messages ---\")\n",
    "full_name = f\"{first_name} {last_name}\"\n",
    "print(f\"Hello, {full_name.title()}! That's a great name.\")\n",
    "print(f\"In 5 years, you'll be {age_5} years old.\")\n",
    "print(f\"In 10 years, you'll be {age_10} years old.\")\n",
    "print(f\"In 20 years, you'll be {age_20} years old.\")\n",
    "print(f\"Did you know your name in uppercase is: {full_name.upper()}?\")\n",
    "print(f\"And in lowercase: {full_name.lower()}\")\n",
    "print(f\"{hobby.capitalize()} sounds like a fun hobby!\")"
   ]
  },
  {
   "cell_type": "code",
   "execution_count": 6,
   "id": "3f1b6745-9afb-4ba7-9d47-9d5d1c6db580",
   "metadata": {},
   "outputs": [
    {
     "name": "stdout",
     "output_type": "stream",
     "text": [
      "\n",
      "--- Fun Facts ---\n",
      "Your full name has 9 letters (no spaces).\n",
      "Your hobby has 14 characters.\n",
      "The first letter of your first name is 'B'.\n",
      "The last letter of your last name is 'u'.\n"
     ]
    }
   ],
   "source": [
    "# Step 4: Interesting facts\n",
    "\n",
    "print(\"\\n--- Fun Facts ---\")\n",
    "name_length = len(first_name + last_name)\n",
    "print(f\"Your full name has {name_length} letters (no spaces).\")\n",
    "print(f\"Your hobby has {len(hobby)} characters.\")\n",
    "print(f\"The first letter of your first name is '{first_name[0]}'.\")\n",
    "print(f\"The last letter of your last name is '{last_name[-1]}'.\")"
   ]
  },
  {
   "cell_type": "code",
   "execution_count": null,
   "id": "d7f3eba4-7262-4929-b1ab-936fa9c8a162",
   "metadata": {},
   "outputs": [],
   "source": []
  }
 ],
 "metadata": {
  "kernelspec": {
   "display_name": "Python [conda env:base] *",
   "language": "python",
   "name": "conda-base-py"
  },
  "language_info": {
   "codemirror_mode": {
    "name": "ipython",
    "version": 3
   },
   "file_extension": ".py",
   "mimetype": "text/x-python",
   "name": "python",
   "nbconvert_exporter": "python",
   "pygments_lexer": "ipython3",
   "version": "3.13.5"
  }
 },
 "nbformat": 4,
 "nbformat_minor": 5
}
