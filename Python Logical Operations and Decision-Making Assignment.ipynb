{
 "cells": [
  {
   "cell_type": "markdown",
   "id": "8a4d3f7c-de11-44ef-aaf3-9262f9478311",
   "metadata": {},
   "source": [
    "# Python Logical Operations and Decision-Making Assignment"
   ]
  },
  {
   "cell_type": "code",
   "execution_count": 1,
   "id": "fc51492e-ab8c-45a7-a6ce-ba2d66a4d5a5",
   "metadata": {},
   "outputs": [
    {
     "name": "stdin",
     "output_type": "stream",
     "text": [
      "Enter a number:  25\n"
     ]
    },
    {
     "name": "stdout",
     "output_type": "stream",
     "text": [
      "25 is an odd number\n"
     ]
    }
   ],
   "source": [
    "# Ask the user for a number\n",
    "number = int(input(\"Enter a number: \"))\n",
    "\n",
    "# Check if number is even or odd\n",
    "if number % 2 == 0:\n",
    "    print(f\"{number} is an even number\")\n",
    "else:\n",
    "    print(f\"{number} is an odd number\")\n"
   ]
  },
  {
   "cell_type": "code",
   "execution_count": 3,
   "id": "cbb16422-2d63-45f8-b730-a364f31427ef",
   "metadata": {},
   "outputs": [
    {
     "name": "stdin",
     "output_type": "stream",
     "text": [
      "Enter your score (0–100):  75\n"
     ]
    },
    {
     "name": "stdout",
     "output_type": "stream",
     "text": [
      "Grade: C\n"
     ]
    }
   ],
   "source": [
    "# Ask the user for a score\n",
    "score = int(input(\"Enter your score (0–100): \"))\n",
    "\n",
    "# Classify the score into a grade\n",
    "if score >= 90 and score <= 100:\n",
    "    print(\"Grade: A\")\n",
    "elif score >= 80:\n",
    "    print(\"Grade: B\")\n",
    "elif score >= 70:\n",
    "    print(\"Grade: C\")\n",
    "elif score >= 60:\n",
    "    print(\"Grade: D\")\n",
    "else:\n",
    "    print(\"Grade: Fail\")\n"
   ]
  },
  {
   "cell_type": "code",
   "execution_count": 5,
   "id": "13d04155-8212-4ab6-9df2-3831703119a5",
   "metadata": {},
   "outputs": [
    {
     "name": "stdin",
     "output_type": "stream",
     "text": [
      "Enter customer type (regular/premium):  Premium\n",
      "Enter purchase amount (KES):  12000\n"
     ]
    },
    {
     "name": "stdout",
     "output_type": "stream",
     "text": [
      "Discount applied: 20.0%\n",
      "Final price after discount: KES 9600.00\n"
     ]
    }
   ],
   "source": [
    "# Ask for customer type and purchase amount\n",
    "customer_type = input(\"Enter customer type (regular/premium): \").lower()\n",
    "purchase_amount = float(input(\"Enter purchase amount (KES): \"))\n",
    "\n",
    "# Apply discount based on conditions\n",
    "if customer_type == \"premium\" and purchase_amount > 10000:\n",
    "    discount = 0.20\n",
    "elif customer_type == \"regular\" and purchase_amount > 15000:\n",
    "    discount = 0.10\n",
    "else:\n",
    "    discount = 0.0\n",
    "\n",
    "# Calculate final price\n",
    "discount_amount = purchase_amount * discount\n",
    "final_price = purchase_amount - discount_amount\n",
    "\n",
    "# Output result\n",
    "print(f\"Discount applied: {discount * 100}%\")\n",
    "print(f\"Final price after discount: KES {final_price:.2f}\")\n"
   ]
  },
  {
   "cell_type": "code",
   "execution_count": 7,
   "id": "eaebd633-7c2c-4cb6-a375-61a166583232",
   "metadata": {},
   "outputs": [
    {
     "name": "stdin",
     "output_type": "stream",
     "text": [
      "Enter your age:  26\n"
     ]
    },
    {
     "name": "stdout",
     "output_type": "stream",
     "text": [
      "Access Granted\n"
     ]
    }
   ],
   "source": [
    "# Ask for age\n",
    "age = int(input(\"Enter your age: \"))\n",
    "\n",
    "# Check access\n",
    "if age < 18:\n",
    "    print(\"Access Denied\")\n",
    "else:\n",
    "    print(\"Access Granted\")\n"
   ]
  },
  {
   "cell_type": "code",
   "execution_count": 9,
   "id": "bb7f3305-88b7-425e-834e-68540f1607f0",
   "metadata": {},
   "outputs": [
    {
     "name": "stdin",
     "output_type": "stream",
     "text": [
      "Enter your age:  28\n",
      "Enter your monthly income:  15000\n"
     ]
    },
    {
     "name": "stdout",
     "output_type": "stream",
     "text": [
      "Not eligible\n"
     ]
    }
   ],
   "source": [
    "# Ask for age and monthly income\n",
    "age = int(input(\"Enter your age: \"))\n",
    "income = float(input(\"Enter your monthly income: \"))\n",
    "\n",
    "# Check eligibility\n",
    "if age < 25 and income < 20000:\n",
    "    print(\"Eligible for scholarship\")\n",
    "else:\n",
    "    print(\"Not eligible\")\n"
   ]
  },
  {
   "cell_type": "code",
   "execution_count": 11,
   "id": "be73c06e-6a44-4040-a0c1-0fb682a64f8f",
   "metadata": {},
   "outputs": [
    {
     "name": "stdin",
     "output_type": "stream",
     "text": [
      "Do you have an account? (yes/no):  yes\n"
     ]
    },
    {
     "name": "stdout",
     "output_type": "stream",
     "text": [
      "Welcome back!\n"
     ]
    }
   ],
   "source": [
    "# Ask if the user has an account\n",
    "response = input(\"Do you have an account? (yes/no): \").lower()\n",
    "\n",
    "# Use 'not' to check condition\n",
    "if not response == \"yes\":\n",
    "    print(\"Please register to continue\")\n",
    "else:\n",
    "    print(\"Welcome back!\")\n"
   ]
  },
  {
   "cell_type": "code",
   "execution_count": null,
   "id": "7840dd4d-745b-478f-a230-de8c9bd26183",
   "metadata": {},
   "outputs": [],
   "source": []
  }
 ],
 "metadata": {
  "kernelspec": {
   "display_name": "Python 3 (ipykernel)",
   "language": "python",
   "name": "python3"
  },
  "language_info": {
   "codemirror_mode": {
    "name": "ipython",
    "version": 3
   },
   "file_extension": ".py",
   "mimetype": "text/x-python",
   "name": "python",
   "nbconvert_exporter": "python",
   "pygments_lexer": "ipython3",
   "version": "3.13.5"
  }
 },
 "nbformat": 4,
 "nbformat_minor": 5
}
